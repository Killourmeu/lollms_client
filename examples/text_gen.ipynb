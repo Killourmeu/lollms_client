{
 "cells": [
  {
   "cell_type": "code",
   "execution_count": null,
   "metadata": {},
   "outputs": [],
   "source": [
    "# Import the library\n",
    "from lollms_client import send_post_request\n",
    "\n",
    "# Define the host address and prompt\n",
    "host_address = \"http://localhost:9600\"\n",
    "prompt = \"Your prompt here\"\n",
    "\n",
    "# Send a POST request\n",
    "response = send_post_request(host_address, prompt)\n",
    "\n",
    "# Print the response\n",
    "print(response)"
   ]
  }
 ],
 "metadata": {
  "language_info": {
   "name": "python"
  }
 },
 "nbformat": 4,
 "nbformat_minor": 2
}
