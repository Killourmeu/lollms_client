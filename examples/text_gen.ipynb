{
 "cells": [
  {
   "cell_type": "code",
   "execution_count": null,
   "metadata": {},
   "outputs": [],
   "source": [
    "# Import the library\n",
    "from lollms_client import generate_text\n",
    "\n",
    "# Define the host address and prompt\n",
    "host_address = \"http://localhost:9600\"\n",
    "prompt = \"Your prompt here\"\n",
    "\n",
    "# Send a POST request\n",
    "response = generate_text(host_address, prompt)\n",
    "\n",
    "# Print the response\n",
    "print(response)"
   ]
  }
 ],
 "metadata": {
  "language_info": {
   "name": "python"
  }
 },
 "nbformat": 4,
 "nbformat_minor": 2
}
